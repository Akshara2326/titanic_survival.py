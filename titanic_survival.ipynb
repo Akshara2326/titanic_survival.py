{
  "nbformat": 4,
  "nbformat_minor": 0,
  "metadata": {
    "colab": {
      "provenance": [],
      "authorship_tag": "ABX9TyNfO2XlZwX3QcPP7auenZzH",
      "include_colab_link": true
    },
    "kernelspec": {
      "name": "python3",
      "display_name": "Python 3"
    },
    "language_info": {
      "name": "python"
    }
  },
  "cells": [
    {
      "cell_type": "markdown",
      "metadata": {
        "id": "view-in-github",
        "colab_type": "text"
      },
      "source": [
        "<a href=\"https://colab.research.google.com/github/Akshara2326/titanic_survival.py/blob/main/titanic_survival.ipynb\" target=\"_parent\"><img src=\"https://colab.research.google.com/assets/colab-badge.svg\" alt=\"Open In Colab\"/></a>"
      ]
    },
    {
      "cell_type": "code",
      "execution_count": 1,
      "metadata": {
        "colab": {
          "base_uri": "https://localhost:8080/"
        },
        "id": "hr6Mp-I1vETD",
        "outputId": "bdb4beef-80ea-4179-df13-a31e280a43e6"
      },
      "outputs": [
        {
          "output_type": "stream",
          "name": "stdout",
          "text": [
            "Decision Tree Accuracy: 1.0\n",
            "Random Forest Accuracy: 1.0\n"
          ]
        }
      ],
      "source": [
        "#DECISON TREES AND RANDOM FORESTS ON TITANIC SURVIVAL PREDICTION\n",
        "from sklearn.tree import DecisionTreeClassifier\n",
        "from sklearn.ensemble import RandomForestClassifier\n",
        "from sklearn.model_selection import train_test_split\n",
        "from sklearn.metrics import accuracy_score\n",
        "from sklearn.preprocessing import LabelEncoder\n",
        "import pandas as pd\n",
        "data = {\n",
        "    'Survived': [0, 1, 1, 0, 1],\n",
        "    'Pclass':   [3, 1, 3, 3, 1],\n",
        "    'Sex':      ['male', 'female', 'female', 'male', 'male'],\n",
        "    'Age':      [22, 38, 26, 35, 54],\n",
        "    'Fare':     [7.25, 71.28, 7.92, 8.05, 51.86]\n",
        "}\n",
        "\n",
        "df = pd.DataFrame(data)\n",
        "le = LabelEncoder() # Convert 'Sex' to numbers\n",
        "df['Sex'] = le.fit_transform(df['Sex'])\n",
        "X = df[['Pclass', 'Sex', 'Age', 'Fare']] # Define X and y\n",
        "y = df['Survived']\n",
        "X_train, X_test, y_train, y_test = train_test_split(X, y, test_size=0.2, random_state=42) # Split the data\n",
        "model = DecisionTreeClassifier() #Decision Tree Model\n",
        "model.fit(X_train, y_train)\n",
        "y_pred = model.predict(X_test) # Predict and check accuracy\n",
        "accuracy = accuracy_score(y_test, y_pred)\n",
        "print(\"Decision Tree Accuracy:\", accuracy)\n",
        "rf_model = RandomForestClassifier(n_estimators=100, random_state=42) #Random forest classifier\n",
        "rf_model.fit(X_train, y_train)\n",
        "rf_pred = rf_model.predict(X_test)\n",
        "print(\"Random Forest Accuracy:\", accuracy_score(y_test, rf_pred))"
      ]
    }
  ]
}